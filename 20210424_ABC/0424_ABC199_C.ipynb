{
 "cells": [
  {
   "cell_type": "code",
   "execution_count": 6,
   "metadata": {},
   "outputs": [
    {
     "name": "stdout",
     "output_type": "stream",
     "text": [
      "FL\n",
      "IP\n",
      "IPFL\n"
     ]
    }
   ],
   "source": [
    "S = \"FLIP\"\n",
    "N = 2\n",
    "a = S[0:N]\n",
    "b = S[N:2*N]\n",
    "print(a)\n",
    "print(b)\n",
    "S = b + a\n",
    "print(S)"
   ]
  },
  {
   "cell_type": "code",
   "execution_count": 26,
   "metadata": {},
   "outputs": [
    {
     "name": "stdout",
     "output_type": "stream",
     "text": [
      "F\n",
      "I\n",
      "\n",
      "L\n",
      "P\n",
      "FLIP\n"
     ]
    }
   ],
   "source": [
    "N = 2\n",
    "S = \"FILP\"\n",
    "A = [2]\n",
    "B = [3]\n",
    "s1 = S[0:A[0]-1]\n",
    "s2 = S[A[0]-1] # 2文字目\n",
    "s3 = S[A[0]:B[0]-1]\n",
    "s4 = S[B[0]-1] # 3文字目\n",
    "s5 = S[B[0]:2*N]\n",
    "print(s1)\n",
    "print(s2)\n",
    "print(s3)\n",
    "print(s4)\n",
    "print(s5)\n",
    "S2 = s1+s4+s3+s2+s5\n",
    "print(S2)"
   ]
  },
  {
   "cell_type": "code",
   "execution_count": 36,
   "metadata": {},
   "outputs": [
    {
     "name": "stdout",
     "output_type": "stream",
     "text": [
      "2\n",
      "FLIP\n",
      "6\n",
      "1 1 3\n",
      "2 0 0\n",
      "1 1 2\n",
      "1 2 3\n",
      "2 0 0\n",
      "1 1 4\n",
      "ILPF\n"
     ]
    }
   ],
   "source": [
    "N = int(input())\n",
    "S = input()\n",
    "Q = int(input())\n",
    "T = [0] * Q\n",
    "A = [0] * Q\n",
    "B = [0] * Q\n",
    "for i in range(Q):\n",
    "    #上から順番に代入していく\n",
    "    T[i], A[i], B[i] = map(int, input().split())\n",
    "    \n",
    "for i in range(Q): # 3×10^{5}\n",
    "    if T[i] == 1:\n",
    "        s1 = S[0:A[i]-1]\n",
    "        s2 = S[A[i]-1] # 2文字目\n",
    "        s3 = S[A[i]:B[i]-1]\n",
    "        s4 = S[B[i]-1] # 3文字目\n",
    "        s5 = S[B[i]:2*N]\n",
    "        S = s1+s4+s3+s2+s5\n",
    "        #print(S)\n",
    "    else: \n",
    "        a = S[0:N]\n",
    "        b = S[N:2*N]\n",
    "        S = b + a\n",
    "        #print(S)\n",
    "print(S)"
   ]
  },
  {
   "cell_type": "markdown",
   "metadata": {},
   "source": []
  }
 ],
 "metadata": {
  "kernelspec": {
   "display_name": "Python 3",
   "language": "python",
   "name": "python3"
  },
  "language_info": {
   "codemirror_mode": {
    "name": "ipython",
    "version": 3
   },
   "file_extension": ".py",
   "mimetype": "text/x-python",
   "name": "python",
   "nbconvert_exporter": "python",
   "pygments_lexer": "ipython3",
   "version": "3.7.3"
  }
 },
 "nbformat": 4,
 "nbformat_minor": 2
}
