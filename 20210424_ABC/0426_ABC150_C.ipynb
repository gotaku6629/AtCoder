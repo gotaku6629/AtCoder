{
 "cells": [
  {
   "cell_type": "code",
   "execution_count": 12,
   "metadata": {},
   "outputs": [
    {
     "name": "stdout",
     "output_type": "stream",
     "text": [
      "3\n",
      "0\n"
     ]
    }
   ],
   "source": [
    "from itertools import permutations\n",
    "\n",
    "N = int(input())\n",
    "P = list(map(int, input().split()))\n",
    "Q = list(map(int, input().split()))\n",
    "#P = [3,1,2]\n",
    "#Q = [3,1,2]\n",
    "\n",
    "lists = [i+1 for i in range(N)]\n",
    "per = permutations(lists)\n",
    "c = 1\n",
    "for list in per: # N!\n",
    "    flag = 0\n",
    "    for i in range(N): # N\n",
    "        if list[i] != P[i]:\n",
    "            flag = 1\n",
    "            break\n",
    "    if flag == 0:\n",
    "        count = c\n",
    "    c += 1\n",
    "    \n",
    "lists = [i+1 for i in range(N)]\n",
    "per = permutations(lists)\n",
    "c = 1\n",
    "for list in per: # N!\n",
    "    flag = 0\n",
    "    for i in range(N): # N\n",
    "        if list[i] != Q[i]:\n",
    "            flag = 1\n",
    "            break\n",
    "    if flag == 0:\n",
    "        count2 = c\n",
    "    c += 1\n",
    "#print(count, count2)\n",
    "print(abs(count-count2))"
   ]
  },
  {
   "cell_type": "code",
   "execution_count": 20,
   "metadata": {},
   "outputs": [
    {
     "name": "stdout",
     "output_type": "stream",
     "text": [
      "3\n",
      "0\n"
     ]
    }
   ],
   "source": [
    "from itertools import permutations\n",
    "\n",
    "N = int(input())\n",
    "#P = list(map(int, input().split()))\n",
    "#Q = list(map(int, input().split()))\n",
    "P = [3,1,2]\n",
    "Q = [3,1,2]\n",
    "\n",
    "lists = [i+1 for i in range(N)]\n",
    "per = permutations(lists)\n",
    "index = 1\n",
    "p_count = 0\n",
    "q_count = 0\n",
    "for list in per: # N!\n",
    "    flag = 0\n",
    "    for i in range(N): # N\n",
    "        p_flag = 0\n",
    "        q_flag = 0\n",
    "        if list[i] == P[i]:\n",
    "            p_flag += 1\n",
    "            if p_flag == N:\n",
    "                p_count = index\n",
    "        if list[i] == Q[i]:\n",
    "            q_flag += 1\n",
    "            if q_flag == N:\n",
    "                q_count = index\n",
    "    index += 1\n",
    "#print(count, count2)\n",
    "print(abs(p_count-q_count))"
   ]
  },
  {
   "cell_type": "code",
   "execution_count": null,
   "metadata": {},
   "outputs": [],
   "source": []
  }
 ],
 "metadata": {
  "kernelspec": {
   "display_name": "Python 3",
   "language": "python",
   "name": "python3"
  },
  "language_info": {
   "codemirror_mode": {
    "name": "ipython",
    "version": 3
   },
   "file_extension": ".py",
   "mimetype": "text/x-python",
   "name": "python",
   "nbconvert_exporter": "python",
   "pygments_lexer": "ipython3",
   "version": "3.7.3"
  }
 },
 "nbformat": 4,
 "nbformat_minor": 2
}
