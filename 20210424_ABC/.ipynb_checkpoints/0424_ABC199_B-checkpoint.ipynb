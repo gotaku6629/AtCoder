{
 "cells": [
  {
   "cell_type": "code",
   "execution_count": 12,
   "metadata": {},
   "outputs": [
    {
     "name": "stdout",
     "output_type": "stream",
     "text": [
      "3\n",
      "7 10\n",
      "3 7\n",
      "3 5\n",
      "-1\n"
     ]
    }
   ],
   "source": [
    "N = int(input())\n",
    "#A = list(map(int, input().split()))\n",
    "#B = list(map(int, input().split()))\n",
    "A = [1, 5, 3]\n",
    "B = [10, 7, 3]\n",
    "\n",
    "min = A[0]\n",
    "max = B[0]\n",
    "for i in range(1, N):\n",
    "    if min < A[i]:\n",
    "        min = A[i]\n",
    "    if B[i] < max:\n",
    "        max = B[i]\n",
    "print(max, min)\n",
    "print(max-min+1)"
   ]
  },
  {
   "cell_type": "code",
   "execution_count": null,
   "metadata": {},
   "outputs": [],
   "source": []
  }
 ],
 "metadata": {
  "kernelspec": {
   "display_name": "Python 3",
   "language": "python",
   "name": "python3"
  },
  "language_info": {
   "codemirror_mode": {
    "name": "ipython",
    "version": 3
   },
   "file_extension": ".py",
   "mimetype": "text/x-python",
   "name": "python",
   "nbconvert_exporter": "python",
   "pygments_lexer": "ipython3",
   "version": "3.7.3"
  }
 },
 "nbformat": 4,
 "nbformat_minor": 2
}
