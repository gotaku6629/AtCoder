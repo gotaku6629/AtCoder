{
 "cells": [
  {
   "cell_type": "code",
   "execution_count": 19,
   "metadata": {},
   "outputs": [
    {
     "name": "stdout",
     "output_type": "stream",
     "text": [
      "15\n"
     ]
    }
   ],
   "source": [
    "S = input()\n",
    "#S = 'xxxxx?xxxo'\n",
    "ok = []\n",
    "bad = []\n",
    "for i in range(len(S)):\n",
    "    if S[i] == 'o':\n",
    "        ok.append(i)\n",
    "    elif S[i] == 'x':\n",
    "        bad.append(i)\n",
    "#print(ok)\n",
    "#print(bad)\n",
    "\n",
    "count = 0\n",
    "for i in range(10**4):\n",
    "    I = str(i)\n",
    "    if i < 10:\n",
    "        I = '000'+I\n",
    "    elif 10 <= i < 10**2:\n",
    "        I = '00'+I\n",
    "    elif 10**2 <= i < 10**3:\n",
    "        I = '0'+I\n",
    "    \n",
    "    ok_flag = 0\n",
    "    for o in ok:\n",
    "        if str(o) in I:\n",
    "            ok_flag += 1\n",
    "    if ok_flag != len(ok):\n",
    "        continue\n",
    "    \n",
    "    bad_flag = 0\n",
    "    for b in bad:\n",
    "        if str(b) in I:\n",
    "            bad_flag = 1\n",
    "            continue\n",
    "    if bad_flag == 1:\n",
    "        continue\n",
    "        \n",
    "    #print(i)\n",
    "    count += 1\n",
    "print(count)"
   ]
  },
  {
   "cell_type": "code",
   "execution_count": null,
   "metadata": {},
   "outputs": [],
   "source": []
  }
 ],
 "metadata": {
  "kernelspec": {
   "display_name": "Python 3",
   "language": "python",
   "name": "python3"
  },
  "language_info": {
   "codemirror_mode": {
    "name": "ipython",
    "version": 3
   },
   "file_extension": ".py",
   "mimetype": "text/x-python",
   "name": "python",
   "nbconvert_exporter": "python",
   "pygments_lexer": "ipython3",
   "version": "3.7.3"
  }
 },
 "nbformat": 4,
 "nbformat_minor": 2
}
