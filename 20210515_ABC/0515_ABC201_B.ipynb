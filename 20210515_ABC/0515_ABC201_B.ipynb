{
 "cells": [
  {
   "cell_type": "code",
   "execution_count": 7,
   "metadata": {},
   "outputs": [
    {
     "name": "stdout",
     "output_type": "stream",
     "text": [
      "3\n",
      "eb 9\n",
      "sd 3\n",
      "kk 1\n",
      "['eb', 'sd', 'kk']\n",
      "[9, 3, 1]\n",
      "[1, 3, 9]\n",
      "3\n",
      "sd\n"
     ]
    }
   ],
   "source": [
    "N = int(input())\n",
    "ST = [input().split() for _ in range(N)]\n",
    "S, T = [list(i) for i in zip(*ST)]\n",
    "T_int = []\n",
    "for i in range(N):\n",
    "    T_int.append(int(T[i]))\n",
    "#print(S)\n",
    "#print(T_int)\n",
    "T_sort = sorted(T_int)\n",
    "#print(T_sort)\n",
    "#print(T_sort[-2])\n",
    "\n",
    "for i in range(N):\n",
    "    if T_sort[-2] == T_int[i]:\n",
    "        print(S[i])"
   ]
  },
  {
   "cell_type": "code",
   "execution_count": null,
   "metadata": {},
   "outputs": [],
   "source": []
  }
 ],
 "metadata": {
  "kernelspec": {
   "display_name": "Python 3",
   "language": "python",
   "name": "python3"
  },
  "language_info": {
   "codemirror_mode": {
    "name": "ipython",
    "version": 3
   },
   "file_extension": ".py",
   "mimetype": "text/x-python",
   "name": "python",
   "nbconvert_exporter": "python",
   "pygments_lexer": "ipython3",
   "version": "3.7.3"
  }
 },
 "nbformat": 4,
 "nbformat_minor": 2
}
