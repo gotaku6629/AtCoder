{
 "cells": [
  {
   "cell_type": "code",
   "execution_count": 4,
   "metadata": {},
   "outputs": [
    {
     "name": "stdout",
     "output_type": "stream",
     "text": [
      "1000 1 1\n",
      "0\n"
     ]
    }
   ],
   "source": [
    "X, Y, Z = map(int, input().split())\n",
    "\n",
    "YZ = Y * Z\n",
    "\n",
    "if YZ % X == 0:\n",
    "    print(int(YZ / X)-1)\n",
    "elif YZ / X <= 1:\n",
    "    print(0)\n",
    "else:\n",
    "    print(int(YZ / X))\n",
    "    "
   ]
  },
  {
   "cell_type": "code",
   "execution_count": 11,
   "metadata": {},
   "outputs": [
    {
     "name": "stdout",
     "output_type": "stream",
     "text": [
      "4 4\n",
      "1 2 3 4\n",
      "1 2 3 4\n",
      "\n"
     ]
    }
   ],
   "source": [
    "N, M = map(int,input().split())\n",
    "A = list(map(int, input().split()))\n",
    "B = list(map(int, input().split()))\n",
    "\n",
    "S = []\n",
    "for a in range(N):\n",
    "    if A[a] not in B:\n",
    "        S.append(A[a])\n",
    "for b in range(M):\n",
    "    if B[b] not in A and B[b] not in S:\n",
    "        S.append(B[b])\n",
    "S_sort = sorted(S)\n",
    "\n",
    "t = ''\n",
    "for s in range(len(S_sort)):\n",
    "    t = t + str(S_sort[s]) + ' '\n",
    "print(t)"
   ]
  },
  {
   "cell_type": "code",
   "execution_count": 2,
   "metadata": {},
   "outputs": [
    {
     "name": "stdout",
     "output_type": "stream",
     "text": [
      "2 4\n",
      "2\n"
     ]
    }
   ],
   "source": [
    "import math\n",
    "A, B = map(int, input().split())\n",
    "\n",
    "for c in range(B, 0, -1):\n",
    "    if (B // c) - ((A-1)//c) >= 2:\n",
    "        print(c)\n",
    "        break"
   ]
  },
  {
   "cell_type": "code",
   "execution_count": 11,
   "metadata": {},
   "outputs": [
    {
     "name": "stdout",
     "output_type": "stream",
     "text": [
      "101 139\n",
      "[2, 3, 5, 7, 11, 13, 17, 19, 23, 29, 31, 37, 41, 43, 47, 53, 59, 61, 67, 71, 73, 79, 83, 89, 97, 101, 103, 107, 109, 113, 121, 127, 131, 137, 139]\n",
      "11\n"
     ]
    }
   ],
   "source": [
    "import math\n",
    "\n",
    "# 素数を求める「エラトステネスのふるい」\n",
    "# 1～targetの中から素因数を取り出す\n",
    "def sieve_of_eratosthenes(target):\n",
    "    dest = int(math.sqrt(target)) # √N\n",
    "    target_list = list(range(2, target + 1)) # start～target\n",
    "    prime_list = []\n",
    "\n",
    "    while True:\n",
    "        num_min = min(target_list)\n",
    "        \n",
    "        if num_min >= dest:\n",
    "            prime_list.extend(target_list)\n",
    "            break\n",
    "            \n",
    "        prime_list.append(num_min)\n",
    "        i = 0\n",
    "        while True: # num_minで割り切れるものをふるいにかける\n",
    "            if i >= len(target_list): # target-1\n",
    "                break\n",
    "            elif target_list[i] % num_min == 0:\n",
    "                target_list.pop(i)\n",
    "            i += 1\n",
    "    print(prime_list)\n",
    "    return prime_list\n",
    "\n",
    "def main():\n",
    "    A, B =  map(int, input().split())\n",
    "    S = sieve_of_eratosthenes(B)\n",
    "\n",
    "    gcd_max = 1\n",
    "    for s in S:\n",
    "        if s < A: continue\n",
    "        for j in range(s+1, B+1):\n",
    "            c = math.gcd(j, s)\n",
    "            if c > gcd_max:\n",
    "                gcd_max = c\n",
    "    print(gcd_max)    \n",
    "    \n",
    "if __name__ == \"__main__\":\n",
    "    main()"
   ]
  },
  {
   "cell_type": "code",
   "execution_count": null,
   "metadata": {},
   "outputs": [],
   "source": []
  }
 ],
 "metadata": {
  "kernelspec": {
   "display_name": "Python 3",
   "language": "python",
   "name": "python3"
  },
  "language_info": {
   "codemirror_mode": {
    "name": "ipython",
    "version": 3
   },
   "file_extension": ".py",
   "mimetype": "text/x-python",
   "name": "python",
   "nbconvert_exporter": "python",
   "pygments_lexer": "ipython3",
   "version": "3.7.3"
  }
 },
 "nbformat": 4,
 "nbformat_minor": 2
}
