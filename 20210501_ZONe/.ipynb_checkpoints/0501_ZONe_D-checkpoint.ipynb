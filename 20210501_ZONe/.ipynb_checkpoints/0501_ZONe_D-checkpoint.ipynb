{
 "cells": [
  {
   "cell_type": "code",
   "execution_count": null,
   "metadata": {},
   "outputs": [],
   "source": [
    "s = input()\n",
    "t = \"\"\n",
    "for i in range(len(s)): # N(10^{5})\n",
    "    if s[i] == 'R':\n",
    "        t = t[::-1]\n",
    "    else:\n",
    "        t = t + s[i]\n",
    "#print(t)\n",
    "\n",
    "i = 0\n",
    "while(i < len(t)-1):\n",
    "    #print(i,t)\n",
    "    if t[i] == t[i+1]:\n",
    "        t = t[:i]+t[i+2:]\n",
    "        i -= 1\n",
    "    else:\n",
    "        i += 1\n",
    "print(t)"
   ]
  },
  {
   "cell_type": "code",
   "execution_count": null,
   "metadata": {},
   "outputs": [],
   "source": []
  }
 ],
 "metadata": {
  "kernelspec": {
   "display_name": "Python 3",
   "language": "python",
   "name": "python3"
  },
  "language_info": {
   "codemirror_mode": {
    "name": "ipython",
    "version": 3
   },
   "file_extension": ".py",
   "mimetype": "text/x-python",
   "name": "python",
   "nbconvert_exporter": "python",
   "pygments_lexer": "ipython3",
   "version": "3.7.3"
  }
 },
 "nbformat": 4,
 "nbformat_minor": 2
}
