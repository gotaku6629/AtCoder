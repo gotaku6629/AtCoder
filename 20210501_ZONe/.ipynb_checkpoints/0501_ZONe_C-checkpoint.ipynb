{
 "cells": [
  {
   "cell_type": "code",
   "execution_count": 1,
   "metadata": {},
   "outputs": [
    {
     "name": "stdout",
     "output_type": "stream",
     "text": [
      "3\n",
      "[[3 9 6 4 6]\n",
      " [6 9 3 1 1]\n",
      " [8 8 9 3 7]]\n"
     ]
    }
   ],
   "source": [
    "import numpy as np\n",
    "N = int(input())\n",
    "#s = [list(map(int, input().split())) for l in range(N)]\n",
    "s = [[3, 9, 6, 4, 6],[6, 9, 3, 1, 1],[8, 8, 9, 3, 7]]\n",
    "s = np.array(s)\n",
    "print(s)\n",
    "\n",
    "# 求める最大値を二分探索\n",
    "data = [i+1 for i in range(1000000000)]\n",
    "left = 0 # 左のindex\n",
    "right = len(data)-1 # →右のindex\n",
    "x = 500 # 求めたい最大値\n",
    "\n",
    "while left <= right:\n",
    "    mid = (left + rigth) // 2\n",
    "    if data[mid] == x:\n",
    "        break\n",
    "    elif data[mid] < value:\n",
    "        left = mid + 1\n",
    "    else:\n",
    "        right = mid - 1"
   ]
  },
  {
   "cell_type": "code",
   "execution_count": null,
   "metadata": {},
   "outputs": [],
   "source": [
    "N = int(input())\n",
    "A = [tuple(map(int, input().split())) for i in range(N)]\n",
    "\n",
    "def check(x):\n",
    "    s = set()\n",
    "    for a in A:\n",
    "        s.add(sum(1 << i for i in range(5) if a[i] >= x))\n",
    "    for x in s:\n",
    "        for y in s:\n",
    "            for z in s:\n",
    "                if x | y | z == 31:\n",
    "                    return True\n",
    "    return False\n",
    "\n",
    "ok = 0\n",
    "ng = 10**9 +1\n",
    "while ng - ok > 1:\n",
    "    cen = (ok + ng) // 2\n",
    "    if check(cen):\n",
    "        ok = cen\n",
    "    else:\n",
    "        ng = cen\n",
    "print(ok)"
   ]
  },
  {
   "cell_type": "markdown",
   "metadata": {},
   "source": []
  }
 ],
 "metadata": {
  "kernelspec": {
   "display_name": "Python 3",
   "language": "python",
   "name": "python3"
  },
  "language_info": {
   "codemirror_mode": {
    "name": "ipython",
    "version": 3
   },
   "file_extension": ".py",
   "mimetype": "text/x-python",
   "name": "python",
   "nbconvert_exporter": "python",
   "pygments_lexer": "ipython3",
   "version": "3.7.3"
  }
 },
 "nbformat": 4,
 "nbformat_minor": 2
}
