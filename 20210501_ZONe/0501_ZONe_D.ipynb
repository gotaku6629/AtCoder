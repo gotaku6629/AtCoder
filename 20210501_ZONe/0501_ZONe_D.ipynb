{
 "cells": [
  {
   "cell_type": "code",
   "execution_count": null,
   "metadata": {},
   "outputs": [],
   "source": [
    "s = input()\n",
    "t = \"\"\n",
    "for i in range(len(s)): # N(10^{5})\n",
    "    if s[i] == 'R':\n",
    "        t = t[::-1] # 反転\n",
    "    else:\n",
    "        t = t + s[i] # 末尾に追加\n",
    "#print(t)\n",
    "\n",
    "i = 0\n",
    "while(i < len(t)-1):\n",
    "    #print(i,t)\n",
    "    if t[i] == t[i+1]:  # 連続2文字なら...\n",
    "        t = t[:i]+t[i+2:] # 取り除く\n",
    "        i -= 1\n",
    "    else:\n",
    "        i += 1\n",
    "print(t)"
   ]
  },
  {
   "cell_type": "code",
   "execution_count": null,
   "metadata": {},
   "outputs": [],
   "source": [
    "from collections import deque  # 先頭・末尾への文字の追加はdeque\n",
    "s = deque()\n",
    "rev = False\n",
    "for i in input():\n",
    "    if i == 'R':\n",
    "        rev = not rev\n",
    "    elif rev:\n",
    "        if s and s[0] == i:\n",
    "            s.popleft() # 先頭の要素を削除\n",
    "        else:\n",
    "            s.appendleft(i) # 先頭に要素を追加\n",
    "    else:\n",
    "        if s and s[-1] == i:\n",
    "            s.pop() # 末尾の要素を削除\n",
    "        else:\n",
    "            s.append(i) # 末尾に要素を追加\n",
    "if reb:\n",
    "    s = reversed(s)\n",
    "print(\"\".join(s))  # リストやdequeから文字列に変更する"
   ]
  }
 ],
 "metadata": {
  "kernelspec": {
   "display_name": "Python 3",
   "language": "python",
   "name": "python3"
  },
  "language_info": {
   "codemirror_mode": {
    "name": "ipython",
    "version": 3
   },
   "file_extension": ".py",
   "mimetype": "text/x-python",
   "name": "python",
   "nbconvert_exporter": "python",
   "pygments_lexer": "ipython3",
   "version": "3.7.3"
  }
 },
 "nbformat": 4,
 "nbformat_minor": 2
}
