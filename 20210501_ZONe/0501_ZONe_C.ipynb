{
 "cells": [
  {
   "cell_type": "code",
   "execution_count": 3,
   "metadata": {},
   "outputs": [
    {
     "name": "stdout",
     "output_type": "stream",
     "text": [
      "3\n",
      "[3 6 8]\n",
      "[9 9 8]\n",
      "[6 3 9]\n",
      "[4 1 3]\n",
      "[6 1 7]\n",
      "[8, 9, 9, 4, 7]\n",
      "4\n"
     ]
    }
   ],
   "source": [
    "import numpy as np\n",
    "N = int(input())\n",
    "s = [list(map(int, input().split())) for l in range(N)]\n",
    "#s = [[3, 9, 6, 4, 6],[6, 9, 3, 1, 1],[8, 8, 9, 3, 7]]\n",
    "s = np.array(s)\n",
    "\n",
    "max_index = []\n",
    "for i in range(5):\n",
    "    max_index.append(np.argmax(s[:,i]))\n",
    "print(max_index)\n",
    "\n",
    "\n",
    "print(min(max_list))"
   ]
  },
  {
   "cell_type": "markdown",
   "metadata": {},
   "source": []
  }
 ],
 "metadata": {
  "kernelspec": {
   "display_name": "Python 3",
   "language": "python",
   "name": "python3"
  },
  "language_info": {
   "codemirror_mode": {
    "name": "ipython",
    "version": 3
   },
   "file_extension": ".py",
   "mimetype": "text/x-python",
   "name": "python",
   "nbconvert_exporter": "python",
   "pygments_lexer": "ipython3",
   "version": "3.7.3"
  }
 },
 "nbformat": 4,
 "nbformat_minor": 2
}
