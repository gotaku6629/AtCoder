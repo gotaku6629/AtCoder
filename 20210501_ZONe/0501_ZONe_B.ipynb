{
 "cells": [
  {
   "cell_type": "code",
   "execution_count": 5,
   "metadata": {},
   "outputs": [
    {
     "name": "stdout",
     "output_type": "stream",
     "text": [
      "1 10 10\n",
      "0.0\n"
     ]
    }
   ],
   "source": [
    "N, D, H = map(int, input().split())\n",
    "dh = [map(int, input().split()) for _ in range(N)]\n",
    "d, h = [list(i) for i in zip(*dh)]\n",
    "#d = [3]\n",
    "#h = [2]\n",
    "h_list = []\n",
    "h_list.append(0.0)\n",
    "\n",
    "for i in range(N):\n",
    "    y = H - D*(h[i]-H)/(d[i]-D)\n",
    "    if 0 <= y <= 1000:\n",
    "        h_list.append(y)\n",
    "print(max(h_list))"
   ]
  },
  {
   "cell_type": "code",
   "execution_count": null,
   "metadata": {},
   "outputs": [],
   "source": []
  }
 ],
 "metadata": {
  "kernelspec": {
   "display_name": "Python 3",
   "language": "python",
   "name": "python3"
  },
  "language_info": {
   "codemirror_mode": {
    "name": "ipython",
    "version": 3
   },
   "file_extension": ".py",
   "mimetype": "text/x-python",
   "name": "python",
   "nbconvert_exporter": "python",
   "pygments_lexer": "ipython3",
   "version": "3.7.3"
  }
 },
 "nbformat": 4,
 "nbformat_minor": 2
}
