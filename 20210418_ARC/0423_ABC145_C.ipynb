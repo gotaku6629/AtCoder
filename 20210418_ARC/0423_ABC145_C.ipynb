{
 "cells": [
  {
   "cell_type": "code",
   "execution_count": 1,
   "metadata": {},
   "outputs": [
    {
     "name": "stdout",
     "output_type": "stream",
     "text": [
      "(1, 2, 3)\n",
      "(1, 3, 2)\n",
      "(2, 1, 3)\n",
      "(2, 3, 1)\n",
      "(3, 1, 2)\n",
      "(3, 2, 1)\n"
     ]
    }
   ],
   "source": [
    "# 順列全探索\n",
    "from itertools import permutations\n",
    "\n",
    "list= [1,2,3]\n",
    "per = permutations(list)\n",
    "for i in per:\n",
    "    print(i)"
   ]
  },
  {
   "cell_type": "code",
   "execution_count": 37,
   "metadata": {},
   "outputs": [
    {
     "name": "stdout",
     "output_type": "stream",
     "text": [
      "3\n",
      "2.2761423749153966\n"
     ]
    }
   ],
   "source": [
    "from itertools import permutations\n",
    "import math \n",
    "\n",
    "N = int(input())\n",
    "#xy = [map(int, input().split()) for _ in range(N)]\n",
    "#x, y = [list(i) for i in zip(*xy)]\n",
    "x = [0,1,0]\n",
    "y = [0,0,1]\n",
    "\n",
    "list = [i for i in range(N)]\n",
    "per = permutations(list)\n",
    "sum_dis = 0\n",
    "for i in per: # 全順列 O(N!)\n",
    "    #print(i)\n",
    "    dis = 0\n",
    "    for j in range(N-1): #  O(N) # i[j]\n",
    "        #print(i[j], i[j+1])\n",
    "        dis += math.sqrt((x[i[j]] - x[i[j+1]])**2 + (y[i[j]] - y[i[j+1]])**2)\n",
    "        #print(math.sqrt((x[i[j]] - x[i[j+1]])**2 + (y[i[j]] - y[i[j+1]])**2))\n",
    "    sum_dis += dis\n",
    "#print(math.factorial(N))\n",
    "sum_dis = sum_dis / math.factorial(N)\n",
    "print(sum_dis)"
   ]
  },
  {
   "cell_type": "markdown",
   "metadata": {},
   "source": []
  }
 ],
 "metadata": {
  "kernelspec": {
   "display_name": "Python 3",
   "language": "python",
   "name": "python3"
  },
  "language_info": {
   "codemirror_mode": {
    "name": "ipython",
    "version": 3
   },
   "file_extension": ".py",
   "mimetype": "text/x-python",
   "name": "python",
   "nbconvert_exporter": "python",
   "pygments_lexer": "ipython3",
   "version": "3.7.3"
  }
 },
 "nbformat": 4,
 "nbformat_minor": 2
}
