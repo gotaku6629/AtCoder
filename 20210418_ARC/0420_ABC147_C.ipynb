{
 "cells": [
  {
   "cell_type": "code",
   "execution_count": 18,
   "metadata": {},
   "outputs": [
    {
     "name": "stdout",
     "output_type": "stream",
     "text": [
      "3\n",
      "1\n",
      "2 1\n",
      "1\n",
      "1 1\n",
      "1\n",
      "2 0\n",
      "i= 0\n",
      "i= 1\n",
      "i= 2\n",
      "i= 3\n",
      "i= 4\n",
      "i= 5\n",
      "i= 6\n",
      "i= 7\n",
      "1\n"
     ]
    }
   ],
   "source": [
    "N = int(input())\n",
    "A = []\n",
    "X = []\n",
    "Y = []\n",
    "for i in range(N):\n",
    "    A.append(int(input()))\n",
    "    xy = [map(int, input().split()) for _ in range(A[i])]\n",
    "    x, y = [list(j) for j in zip(*xy)]\n",
    "    X.append(x)\n",
    "    Y.append(y)\n",
    "#print(A)\n",
    "#print('X=',X)\n",
    "#print('Y=',Y)\n",
    "\n",
    "max_count = 0\n",
    "for i in range(2**N): # n人の{うそ,ほんと}の全組み合わせ\n",
    "    count = 0\n",
    "    print('i=', i)\n",
    "    for j in range(N):  # N人を1人ずる見ていく\n",
    "        if ((i >> j) & 1): # もし, 1=\"正直者\"であれば,\n",
    "            flag = 0\n",
    "            # j番目の人の言うことを信じて,\n",
    "            for k in range(A[j]): # j番目の人がk人分の証言をするか\n",
    "                if Y[j][k] == 1:\n",
    "                    if not ((i >> X[j][k]) & Y[j][k]):\n",
    "                        flag = 1\n",
    "                        break\n",
    "                else:\n",
    "                    if not (((i) >> (X[j][k]+1)) & (Y[j][k]+1)):\n",
    "                        flag = 1\n",
    "                        break\n",
    "            if flag == 1:\n",
    "                count = 0\n",
    "                break\n",
    "            count += 1            \n",
    "    if max_count < count:\n",
    "        max_count = count\n",
    "print(max_count)        "
   ]
  },
  {
   "cell_type": "markdown",
   "metadata": {},
   "source": []
  }
 ],
 "metadata": {
  "kernelspec": {
   "display_name": "Python 3",
   "language": "python",
   "name": "python3"
  },
  "language_info": {
   "codemirror_mode": {
    "name": "ipython",
    "version": 3
   },
   "file_extension": ".py",
   "mimetype": "text/x-python",
   "name": "python",
   "nbconvert_exporter": "python",
   "pygments_lexer": "ipython3",
   "version": "3.7.3"
  }
 },
 "nbformat": 4,
 "nbformat_minor": 2
}
