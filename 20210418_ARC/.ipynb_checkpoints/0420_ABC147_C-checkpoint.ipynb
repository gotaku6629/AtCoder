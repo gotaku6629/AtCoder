{
 "cells": [
  {
   "cell_type": "code",
   "execution_count": 44,
   "metadata": {
    "scrolled": true
   },
   "outputs": [
    {
     "name": "stdout",
     "output_type": "stream",
     "text": [
      "3\n",
      "1\n",
      "2 1\n",
      "1\n",
      "1 1\n",
      "1\n",
      "2 0\n",
      "A= [1, 1, 1]\n",
      "X= [[2], [1], [2]]\n",
      "Y= [[1], [1], [0]]\n",
      "i= 0 count= 0\n",
      "i= 1 X[ 0 ][ 0 ]= 2 Y= 1\n",
      "i= 1 count= 0\n",
      "i= 2 X[ 1 ][ 0 ]= 1 Y= 1\n",
      "i= 2 count= 0\n",
      "i= 3 X[ 0 ][ 0 ]= 2 Y= 1\n",
      "i= 3 X[ 1 ][ 0 ]= 1 Y= 1\n",
      "i= 3 count= 0\n",
      "i= 4 X[ 2 ][ 0 ]= 2 Y= 0\n",
      "i= 4 count= 0\n",
      "i= 5 X[ 0 ][ 0 ]= 2 Y= 1\n",
      "i= 5 count= 0\n",
      "i= 6 X[ 1 ][ 0 ]= 1 Y= 1\n",
      "i= 6 count= 0\n",
      "i= 7 X[ 0 ][ 0 ]= 2 Y= 1\n",
      "i= 7 count= 0\n",
      "0\n"
     ]
    }
   ],
   "source": [
    "N = int(input())\n",
    "A = []\n",
    "X = []\n",
    "Y = []\n",
    "for i in range(N):\n",
    "    A.append(int(input()))\n",
    "    xy = [map(int, input().split()) for _ in range(A[i])]\n",
    "    x, y = [list(j) for j in zip(*xy)]\n",
    "    X.append(x)\n",
    "    Y.append(y)\n",
    "print('A=',A)\n",
    "print('X=',X)\n",
    "print('Y=',Y)\n",
    "\n",
    "max_count = 0\n",
    "for i in range(2**N): # n人の{うそ,ほんと}の全組み合わせ\n",
    "    count = 0\n",
    "    for j in range(N):  # N人を1人ずる見ていく\n",
    "        if ((i >> j) & 1): # もし, 1=\"正直者\"であれば,\n",
    "            flag = 0\n",
    "            count += 1\n",
    "            # j番目の人の言うことを信じて,\n",
    "            for k in range(A[j]): # j番目の人がk人分の証言をするか\n",
    "                print('i=',i,'X[',j,'][',k,']=',X[j][k],'Y=',Y[j][k])\n",
    "                if ((i >> (X[j][k]-1)) ^ Y[j][k]): # 0 と 1は違うから, 入る！\n",
    "                    flag = 1\n",
    "                    break\n",
    "            if flag == 1:\n",
    "                count = 0\n",
    "                break\n",
    "    print('i=',i,'count=',count)\n",
    "    if max_count < count:\n",
    "        max_count = count\n",
    "print(max_count)        "
   ]
  },
  {
   "cell_type": "code",
   "execution_count": 13,
   "metadata": {},
   "outputs": [
    {
     "name": "stdout",
     "output_type": "stream",
     "text": [
      "pattern 0: \n",
      "['みかん', 'りんご', 'ぶどう']\n",
      "pattern 1: \n",
      "['りんご', 'ぶどう']\n",
      "pattern 2: \n",
      "['みかん', 'ぶどう']\n",
      "pattern 3: \n",
      "['ぶどう']\n",
      "pattern 4: \n",
      "['みかん', 'りんご']\n",
      "pattern 5: \n",
      "['りんご']\n",
      "pattern 6: \n",
      "['みかん']\n",
      "pattern 7: \n",
      "[]\n"
     ]
    }
   ],
   "source": [
    "money = 300\n",
    "item = ((\"みかん\", 100), (\"りんご\", 200), (\"ぶどう\", 300))\n",
    "n = len(item)\n",
    "for i in range(2 ** n):\n",
    "    bag = []\n",
    "    print(\"pattern {}: \".format(i), end=\"\\n\")\n",
    "    for j in range(n):  # このループが一番のポイント\n",
    "        if (~(i >> j) & 1):  # 順に右にシフトさせ最下位bitのチェックを行う\n",
    "            bag.append(item[j][0])  # フラグが立っていたら bag に果物を詰める\n",
    "    print(bag)"
   ]
  },
  {
   "cell_type": "code",
   "execution_count": 18,
   "metadata": {
    "scrolled": true
   },
   "outputs": [
    {
     "name": "stdout",
     "output_type": "stream",
     "text": [
      "pattern 0: \n",
      "['みかん', 'りんご', 'ぶどう']\n",
      "pattern 1: \n",
      "['りんご', 'ぶどう']\n",
      "pattern 2: \n",
      "['みかん', 'ぶどう']\n",
      "pattern 3: \n",
      "['みかん', 'ぶどう']\n",
      "pattern 4: \n",
      "['みかん', 'りんご']\n",
      "pattern 5: \n",
      "['みかん', 'りんご']\n",
      "pattern 6: \n",
      "['みかん', 'りんご']\n",
      "pattern 7: \n",
      "['みかん', 'りんご']\n"
     ]
    }
   ],
   "source": [
    "money = 300\n",
    "item = ((\"みかん\", 100), (\"りんご\", 200), (\"ぶどう\", 300))\n",
    "n = len(item)\n",
    "for i in range(2 ** n):\n",
    "    bag = []\n",
    "    print(\"pattern {}: \".format(i), end=\"\\n\")\n",
    "    for j in range(n):  # このループが一番のポイント\n",
    "        if ((i >> j) ^ 1):  # 順に右にシフトさせ最下位bitのチェックを行う\n",
    "            bag.append(item[j][0])  # フラグが立っていたら bag に果物を詰める\n",
    "    print(bag)"
   ]
  },
  {
   "cell_type": "code",
   "execution_count": 38,
   "metadata": {},
   "outputs": [
    {
     "name": "stdout",
     "output_type": "stream",
     "text": [
      "NO\n"
     ]
    }
   ],
   "source": [
    "if not (1 ^ 0):\n",
    "    print('OK')\n",
    "else:\n",
    "    print('NO')"
   ]
  },
  {
   "cell_type": "code",
   "execution_count": null,
   "metadata": {},
   "outputs": [],
   "source": []
  }
 ],
 "metadata": {
  "kernelspec": {
   "display_name": "Python 3",
   "language": "python",
   "name": "python3"
  },
  "language_info": {
   "codemirror_mode": {
    "name": "ipython",
    "version": 3
   },
   "file_extension": ".py",
   "mimetype": "text/x-python",
   "name": "python",
   "nbconvert_exporter": "python",
   "pygments_lexer": "ipython3",
   "version": "3.7.3"
  }
 },
 "nbformat": 4,
 "nbformat_minor": 2
}
