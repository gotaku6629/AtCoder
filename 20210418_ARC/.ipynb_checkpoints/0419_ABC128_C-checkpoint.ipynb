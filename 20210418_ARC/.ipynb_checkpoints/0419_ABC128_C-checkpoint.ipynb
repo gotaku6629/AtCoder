{
 "cells": [
  {
   "cell_type": "code",
   "execution_count": 14,
   "metadata": {},
   "outputs": [
    {
     "name": "stdout",
     "output_type": "stream",
     "text": [
      "2 3\n",
      "2 1 2\n",
      "1 1\n",
      "1 2\n",
      "0 0 1\n",
      "1\n"
     ]
    }
   ],
   "source": [
    "N, M = map(int, input().split())\n",
    "kS = [list(map(int, input().split())) for l in range(M)]\n",
    "P = list(map(int, input().split()))\n",
    "\n",
    "#switch = [0 for i in range(N)]\n",
    "count = 0\n",
    "# スイッチのbit全探索\n",
    "for i in range(2**N):\n",
    "    light = [0 for _ in range(M)]\n",
    "    flag = 0\n",
    "    for j in range(N): # 現状のbit列で, 1の要素を順番に見ていく!\n",
    "        if ((i >> j) & 1): # j番目の要素が1なら...\n",
    "            for m in range(M): # 電球の数\n",
    "                for k in range(kS[m][0]): # m番目の電球の全スイッチの数\n",
    "                    if j+1 == kS[m][k+1]: # もし含まれていたら...\n",
    "                        light[m] = light[m] + 1\n",
    "    \n",
    "    for m in range(M):\n",
    "        if light[m] % 2 != P[m]:\n",
    "print(count)\n",
    "                "
   ]
  },
  {
   "cell_type": "code",
   "execution_count": null,
   "metadata": {},
   "outputs": [],
   "source": [
    "\n"
   ]
  }
 ],
 "metadata": {
  "kernelspec": {
   "display_name": "Python 3",
   "language": "python",
   "name": "python3"
  },
  "language_info": {
   "codemirror_mode": {
    "name": "ipython",
    "version": 3
   },
   "file_extension": ".py",
   "mimetype": "text/x-python",
   "name": "python",
   "nbconvert_exporter": "python",
   "pygments_lexer": "ipython3",
   "version": "3.7.3"
  }
 },
 "nbformat": 4,
 "nbformat_minor": 2
}
