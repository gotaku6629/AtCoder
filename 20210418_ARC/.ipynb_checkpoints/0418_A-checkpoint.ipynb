{
 "cells": [
  {
   "cell_type": "code",
   "execution_count": null,
   "metadata": {},
   "outputs": [],
   "source": [
    "A, B = map(int, input().split())\n",
    " \n",
    "# 大きいほうを取る\n",
    "X = A #  X:大きい\n",
    "Y = B #  Y:小さい\n",
    "flag = 0\n",
    "if A < B:\n",
    "    flag = 1\n",
    "    X = B\n",
    "    Y = A\n",
    " \n",
    "list1 = [i+1 for i in range(X)]\n",
    "list2 = [i for i in range(X-Y+1, X+1)]\n",
    "L = int((X-Y)*((X-Y)+1)/2)\n",
    "list2[-1] = list2[-1] + L\n",
    "#print(list1)\n",
    "#print(list2)\n",
    "#print(L)\n",
    "t = ''\n",
    "if flag == 0:\n",
    "    for i in range(X):\n",
    "        t = t + str(list1[i]) + ' '\n",
    "    for i in range(Y):\n",
    "        t = t + '-' +str(list2[i]) + ' '\n",
    "else:\n",
    "    for i in range(X):\n",
    "        t = t + '-'+str(list1[i]) + ' '\n",
    "    for i in range(Y):\n",
    "        t = t +str(list2[i]) + ' '\n",
    "print(t)"
   ]
  },
  {
   "cell_type": "code",
   "execution_count": null,
   "metadata": {},
   "outputs": [],
   "source": []
  }
 ],
 "metadata": {
  "kernelspec": {
   "display_name": "Python 3",
   "language": "python",
   "name": "python3"
  },
  "language_info": {
   "codemirror_mode": {
    "name": "ipython",
    "version": 3
   },
   "file_extension": ".py",
   "mimetype": "text/x-python",
   "name": "python",
   "nbconvert_exporter": "python",
   "pygments_lexer": "ipython3",
   "version": "3.7.3"
  }
 },
 "nbformat": 4,
 "nbformat_minor": 2
}
